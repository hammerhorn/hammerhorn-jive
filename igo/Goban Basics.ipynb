{
 "metadata": {
  "name": ""
 },
 "nbformat": 3,
 "nbformat_minor": 0,
 "worksheets": [
  {
   "cells": [
    {
     "cell_type": "code",
     "collapsed": false,
     "input": [
      "import cjh.igo"
     ],
     "language": "python",
     "metadata": {},
     "outputs": [],
     "prompt_number": 1
    },
    {
     "cell_type": "code",
     "collapsed": false,
     "input": [
      "from cjh.igo import Goban"
     ],
     "language": "python",
     "metadata": {},
     "outputs": [],
     "prompt_number": 2
    },
    {
     "cell_type": "code",
     "collapsed": false,
     "input": [
      "goban1 = Goban()"
     ],
     "language": "python",
     "metadata": {},
     "outputs": [],
     "prompt_number": 3
    },
    {
     "cell_type": "code",
     "collapsed": false,
     "input": [
      "print(goban1)"
     ],
     "language": "python",
     "metadata": {},
     "outputs": [
      {
       "output_type": "stream",
       "stream": "stdout",
       "text": [
        "\n",
        "    A B C D E F G H J K L M N O P Q R S T\n",
        " 19 . . . . . . . . . . . . . . . . . . . 19 \n",
        " 18 . . . . . . . . . . . . . . . . . . . 18 \n",
        " 17 . . . . . . . . . . . . . . . . . . . 17 \n",
        " 16 . . . + . . . . . + . . . . . + . . . 16 \n",
        " 15 . . . . . . . . . . . . . . . . . . . 15 \n",
        " 14 . . . . . . . . . . . . . . . . . . . 14 \n",
        " 13 . . . . . . . . . . . . . . . . . . . 13 \n",
        " 12 . . . . . . . . . . . . . . . . . . . 12 \n",
        " 11 . . . . . . . . . . . . . . . . . . . 11 \n",
        " 10 . . . + . . . . . + . . . . . + . . . 10 \n",
        "  9 . . . . . . . . . . . . . . . . . . .  9 \n",
        "  8 . . . . . . . . . . . . . . . . . . .  8 \n",
        "  7 . . . . . . . . . . . . . . . . . . .  7 \n",
        "  6 . . . . . . . . . . . . . . . . . . .  6 \n",
        "  5 . . . . . . . . . . . . . . . . . . .  5 \n",
        "  4 . . . + . . . . . + . . . . . + . . .  4 \n",
        "  3 . . . . . . . . . . . . . . . . . . .  3 \n",
        "  2 . . . . . . . . . . . . . . . . . . .  2 \n",
        "  1 . . . . . . . . . . . . . . . . . . .  1 \n",
        "    A B C D E F G H J K L M N O P Q R S T\n",
        "\n"
       ]
      }
     ],
     "prompt_number": 4
    },
    {
     "cell_type": "code",
     "collapsed": false,
     "input": [],
     "language": "python",
     "metadata": {},
     "outputs": []
    }
   ],
   "metadata": {}
  }
 ]
}